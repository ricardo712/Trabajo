{
  "nbformat": 4,
  "nbformat_minor": 0,
  "metadata": {
    "kernelspec": {
      "display_name": "Python 3",
      "language": "python",
      "name": "python3"
    },
    "language_info": {
      "codemirror_mode": {
        "name": "ipython",
        "version": 3
      },
      "file_extension": ".py",
      "mimetype": "text/x-python",
      "name": "python",
      "nbconvert_exporter": "python",
      "pygments_lexer": "ipython3",
      "version": "3.7.6"
    },
    "toc": {
      "base_numbering": 1,
      "nav_menu": {},
      "number_sections": true,
      "sideBar": true,
      "skip_h1_title": false,
      "title_cell": "Table of Contents",
      "title_sidebar": "Contents",
      "toc_cell": false,
      "toc_position": {},
      "toc_section_display": true,
      "toc_window_display": true
    },
    "colab": {
      "name": "Copia de Optimization_Problem_Example.ipynb",
      "provenance": [],
      "include_colab_link": true
    }
  },
  "cells": [
    {
      "cell_type": "markdown",
      "metadata": {
        "id": "view-in-github",
        "colab_type": "text"
      },
      "source": [
        "<a href=\"https://colab.research.google.com/github/ricardo712/Trabajo/blob/master/Copia_de_Optimization_Problem_Example.ipynb\" target=\"_parent\"><img src=\"https://colab.research.google.com/assets/colab-badge.svg\" alt=\"Open In Colab\"/></a>"
      ]
    },
    {
      "cell_type": "code",
      "metadata": {
        "colab": {
          "base_uri": "https://localhost:8080/"
        },
        "id": "JtB1HfHnXuhQ",
        "outputId": "5ed8045c-e5bb-457f-aec2-41da4cc29ae1"
      },
      "source": [
        "!pip install -q pulp"
      ],
      "execution_count": null,
      "outputs": [
        {
          "output_type": "stream",
          "text": [
            "\u001b[K     |████████████████████████████████| 40.6MB 103kB/s \n",
            "\u001b[?25h"
          ],
          "name": "stdout"
        }
      ]
    },
    {
      "cell_type": "code",
      "metadata": {
        "id": "F50Zwxn-XTqW"
      },
      "source": [
        "import pulp\n",
        "from pulp import *\n",
        "import pandas as pd\n",
        "import numpy as np"
      ],
      "execution_count": null,
      "outputs": []
    },
    {
      "cell_type": "markdown",
      "metadata": {
        "id": "j3JmH9cSXTqe"
      },
      "source": [
        "# Data Definitions"
      ]
    },
    {
      "cell_type": "code",
      "metadata": {
        "id": "0NsoCIdRXTqf"
      },
      "source": [
        "n_warehouses = 2\n",
        "n_customers = 4\n",
        "cost_matrix = np.array([[1,3,0.5,4],[2.5,5,1.5,2.5]])"
      ],
      "execution_count": null,
      "outputs": []
    },
    {
      "cell_type": "code",
      "metadata": {
        "id": "cXeVy8orXTqf"
      },
      "source": [
        "cust_demands = np.array([35000, 22000, 18000, 30000])"
      ],
      "execution_count": null,
      "outputs": []
    },
    {
      "cell_type": "code",
      "metadata": {
        "id": "P-Qmfm9AXTqg"
      },
      "source": [
        "warehouse_supply = np.array([60000, 80000])"
      ],
      "execution_count": null,
      "outputs": []
    },
    {
      "cell_type": "markdown",
      "metadata": {
        "id": "-VDGDw2gXTqg"
      },
      "source": [
        "# Model Initialization"
      ]
    },
    {
      "cell_type": "code",
      "metadata": {
        "id": "M2rXkG28XTqg"
      },
      "source": [
        "model = LpProblem(\"Supply-Demand-Problem\", LpMinimize)"
      ],
      "execution_count": null,
      "outputs": []
    },
    {
      "cell_type": "markdown",
      "metadata": {
        "id": "5dMfX_WHXTqh"
      },
      "source": [
        "## Variable Names define"
      ]
    },
    {
      "cell_type": "code",
      "metadata": {
        "id": "vTAyMJpVXTqh"
      },
      "source": [
        "variable_names = [str(i)+str(j) for j in range(1, n_customers+1) for i in range(1,n_warehouses+1)]"
      ],
      "execution_count": null,
      "outputs": []
    },
    {
      "cell_type": "code",
      "metadata": {
        "id": "2lI_GZcXXTqh"
      },
      "source": [
        "variable_names.sort()"
      ],
      "execution_count": null,
      "outputs": []
    },
    {
      "cell_type": "code",
      "metadata": {
        "colab": {
          "base_uri": "https://localhost:8080/"
        },
        "id": "Mtpu4Q8nXTqi",
        "outputId": "205667e1-ff9b-408c-fc09-75675ca39848"
      },
      "source": [
        "variable_names"
      ],
      "execution_count": null,
      "outputs": [
        {
          "output_type": "execute_result",
          "data": {
            "text/plain": [
              "['11', '12', '13', '14', '21', '22', '23', '24']"
            ]
          },
          "metadata": {
            "tags": []
          },
          "execution_count": 9
        }
      ]
    },
    {
      "cell_type": "markdown",
      "metadata": {
        "id": "DYGm7n6QXTqj"
      },
      "source": [
        "# Decision Variables"
      ]
    },
    {
      "cell_type": "code",
      "metadata": {
        "id": "_jM-wkuEXTqj"
      },
      "source": [
        "DV_variables = LpVariable.matrix(\"X\", variable_names , cat = \"Integer\" , lowBound= 0 )"
      ],
      "execution_count": null,
      "outputs": []
    },
    {
      "cell_type": "code",
      "metadata": {
        "id": "Ax-CJLkSXTqj"
      },
      "source": [
        "allocation = np.array(DV_variables).reshape(2,4)"
      ],
      "execution_count": null,
      "outputs": []
    },
    {
      "cell_type": "code",
      "metadata": {
        "colab": {
          "base_uri": "https://localhost:8080/"
        },
        "id": "1Q8ibUvYXTqk",
        "outputId": "35591178-c025-4542-c788-aed3ec649f0f"
      },
      "source": [
        "allocation"
      ],
      "execution_count": null,
      "outputs": [
        {
          "output_type": "execute_result",
          "data": {
            "text/plain": [
              "array([[X_11, X_12, X_13, X_14],\n",
              "       [X_21, X_22, X_23, X_24]], dtype=object)"
            ]
          },
          "metadata": {
            "tags": []
          },
          "execution_count": 12
        }
      ]
    },
    {
      "cell_type": "markdown",
      "metadata": {
        "id": "li0HaOh3XTqk"
      },
      "source": [
        "# Objective Function"
      ]
    },
    {
      "cell_type": "code",
      "metadata": {
        "colab": {
          "base_uri": "https://localhost:8080/"
        },
        "id": "Lll8TyvHXTqk",
        "outputId": "f32bed28-64e0-4f7f-9816-16adb5e80b28"
      },
      "source": [
        "lpSum(allocation*cost_matrix)"
      ],
      "execution_count": null,
      "outputs": [
        {
          "output_type": "execute_result",
          "data": {
            "text/plain": [
              "LpAffineExpression([(X_11, 1.0),\n",
              "                    (X_12, 3.0),\n",
              "                    (X_13, 0.5),\n",
              "                    (X_14, 4.0),\n",
              "                    (X_21, 2.5),\n",
              "                    (X_22, 5.0),\n",
              "                    (X_23, 1.5),\n",
              "                    (X_24, 2.5)])"
            ]
          },
          "metadata": {
            "tags": []
          },
          "execution_count": 13
        }
      ]
    },
    {
      "cell_type": "code",
      "metadata": {
        "id": "i37_L9fRXTqk"
      },
      "source": [
        "obj_func = lpSum(allocation*cost_matrix)"
      ],
      "execution_count": null,
      "outputs": []
    },
    {
      "cell_type": "code",
      "metadata": {
        "id": "iwIp5FPwXTql"
      },
      "source": [
        "# Objective Function \n",
        "model +=  obj_func"
      ],
      "execution_count": null,
      "outputs": []
    },
    {
      "cell_type": "code",
      "metadata": {
        "colab": {
          "base_uri": "https://localhost:8080/"
        },
        "id": "W88zC3o4XTql",
        "outputId": "d3db834c-3048-4a87-d332-af4c338b5ad9"
      },
      "source": [
        "model"
      ],
      "execution_count": null,
      "outputs": [
        {
          "output_type": "execute_result",
          "data": {
            "text/plain": [
              "Supply-Demand-Problem:\n",
              "MINIMIZE\n",
              "1.0*X_11 + 3.0*X_12 + 0.5*X_13 + 4.0*X_14 + 2.5*X_21 + 5.0*X_22 + 1.5*X_23 + 2.5*X_24 + 0.0\n",
              "VARIABLES\n",
              "0 <= X_11 Integer\n",
              "0 <= X_12 Integer\n",
              "0 <= X_13 Integer\n",
              "0 <= X_14 Integer\n",
              "0 <= X_21 Integer\n",
              "0 <= X_22 Integer\n",
              "0 <= X_23 Integer\n",
              "0 <= X_24 Integer"
            ]
          },
          "metadata": {
            "tags": []
          },
          "execution_count": 16
        }
      ]
    },
    {
      "cell_type": "markdown",
      "metadata": {
        "id": "xx5xXq0rXTql"
      },
      "source": [
        "# Constraints"
      ]
    },
    {
      "cell_type": "code",
      "metadata": {
        "scrolled": true,
        "colab": {
          "base_uri": "https://localhost:8080/"
        },
        "id": "bFh8hiMPXTql",
        "outputId": "a1ca5528-c1ec-4637-baec-9fd58c6e7e67"
      },
      "source": [
        "# Warehouse Constraints\n",
        "for i in range(n_warehouses):\n",
        "    print(lpSum(allocation[i][j] for j in range(n_customers)) <= warehouse_supply[i])\n",
        "    model += lpSum(allocation[i][j] for j in range(n_customers)) <= warehouse_supply[i] , \"Supply Constraints \" + str(i)"
      ],
      "execution_count": null,
      "outputs": [
        {
          "output_type": "stream",
          "text": [
            "X_11 + X_12 + X_13 + X_14 <= 60000\n",
            "X_21 + X_22 + X_23 + X_24 <= 80000\n"
          ],
          "name": "stdout"
        }
      ]
    },
    {
      "cell_type": "code",
      "metadata": {
        "colab": {
          "base_uri": "https://localhost:8080/"
        },
        "id": "7FbCK1KUXTqm",
        "outputId": "2abbe073-6e03-44b7-a051-2ff1e4d84996"
      },
      "source": [
        "# Customer Constraints\n",
        "for j in range(n_customers):\n",
        "    print(lpSum(allocation[i][j] for i in range(n_warehouses)) >= cust_demands[j])\n",
        "    model += lpSum(allocation[i][j] for i in range(n_warehouses)) >= cust_demands[j] , \"Demand Constraints \" + str(j)"
      ],
      "execution_count": null,
      "outputs": [
        {
          "output_type": "stream",
          "text": [
            "X_11 + X_21 >= 35000\n",
            "X_12 + X_22 >= 22000\n",
            "X_13 + X_23 >= 18000\n",
            "X_14 + X_24 >= 30000\n"
          ],
          "name": "stdout"
        }
      ]
    },
    {
      "cell_type": "code",
      "metadata": {
        "colab": {
          "base_uri": "https://localhost:8080/"
        },
        "id": "66jofyBYXTqm",
        "outputId": "033f6411-8782-47ab-f372-b56f6c13219e"
      },
      "source": [
        "model"
      ],
      "execution_count": null,
      "outputs": [
        {
          "output_type": "execute_result",
          "data": {
            "text/plain": [
              "Supply-Demand-Problem:\n",
              "MINIMIZE\n",
              "1.0*X_11 + 3.0*X_12 + 0.5*X_13 + 4.0*X_14 + 2.5*X_21 + 5.0*X_22 + 1.5*X_23 + 2.5*X_24 + 0.0\n",
              "SUBJECT TO\n",
              "Supply_Constraints_0: X_11 + X_12 + X_13 + X_14 <= 60000\n",
              "\n",
              "Supply_Constraints_1: X_21 + X_22 + X_23 + X_24 <= 80000\n",
              "\n",
              "Demand_Constraints_0: X_11 + X_21 >= 35000\n",
              "\n",
              "Demand_Constraints_1: X_12 + X_22 >= 22000\n",
              "\n",
              "Demand_Constraints_2: X_13 + X_23 >= 18000\n",
              "\n",
              "Demand_Constraints_3: X_14 + X_24 >= 30000\n",
              "\n",
              "VARIABLES\n",
              "0 <= X_11 Integer\n",
              "0 <= X_12 Integer\n",
              "0 <= X_13 Integer\n",
              "0 <= X_14 Integer\n",
              "0 <= X_21 Integer\n",
              "0 <= X_22 Integer\n",
              "0 <= X_23 Integer\n",
              "0 <= X_24 Integer"
            ]
          },
          "metadata": {
            "tags": []
          },
          "execution_count": 19
        }
      ]
    },
    {
      "cell_type": "markdown",
      "metadata": {
        "id": "BelBD4a5XTqm"
      },
      "source": [
        "# Save problem - Write it"
      ]
    },
    {
      "cell_type": "code",
      "metadata": {
        "colab": {
          "base_uri": "https://localhost:8080/"
        },
        "id": "-BAeJWtzXTqm",
        "outputId": "a44080f4-4922-446b-f265-f8c3affa5a42"
      },
      "source": [
        "model.writeLP(\"Supply_demand_prob.lp\")"
      ],
      "execution_count": null,
      "outputs": [
        {
          "output_type": "execute_result",
          "data": {
            "text/plain": [
              "[X_11, X_12, X_13, X_14, X_21, X_22, X_23, X_24]"
            ]
          },
          "metadata": {
            "tags": []
          },
          "execution_count": 20
        }
      ]
    },
    {
      "cell_type": "markdown",
      "metadata": {
        "id": "-iBnqYnbXTqn"
      },
      "source": [
        "# Solve Problem and check Status"
      ]
    },
    {
      "cell_type": "code",
      "metadata": {
        "colab": {
          "base_uri": "https://localhost:8080/"
        },
        "id": "AWmqHoppXTqn",
        "outputId": "0cafbc0c-141b-406d-99aa-dd6f66970e8c"
      },
      "source": [
        "model.solve()\n",
        "# solvers.PULP_CBC_CMD(fracGap=0)\n",
        "status =  LpStatus[model.status]\n",
        "print(status)"
      ],
      "execution_count": null,
      "outputs": [
        {
          "output_type": "stream",
          "text": [
            "Optimal\n"
          ],
          "name": "stdout"
        }
      ]
    },
    {
      "cell_type": "markdown",
      "metadata": {
        "id": "LzYMT1L4XTqn"
      },
      "source": [
        "# Objective Function values and Decision Variable Values\n"
      ]
    },
    {
      "cell_type": "code",
      "metadata": {
        "colab": {
          "base_uri": "https://localhost:8080/"
        },
        "id": "_64y0Q5nXTqn",
        "outputId": "f40fdcb9-cea7-404d-e3ae-70252e411798"
      },
      "source": [
        "print(\"Total Cost:\", model.objective.value())\n",
        "# Decision Variables\n",
        "\n",
        "for v in model.variables():\n",
        "    try:\n",
        "        print(v.name,\"=\", v.value())\n",
        "    except:\n",
        "        print(\"error couldnt find value\")"
      ],
      "execution_count": null,
      "outputs": [
        {
          "output_type": "stream",
          "text": [
            "Total Cost: 200000.0\n",
            "X_11 = 35000.0\n",
            "X_12 = 22000.0\n",
            "X_13 = 3000.0\n",
            "X_14 = 0.0\n",
            "X_21 = 0.0\n",
            "X_22 = 0.0\n",
            "X_23 = 15000.0\n",
            "X_24 = 30000.0\n"
          ],
          "name": "stdout"
        }
      ]
    },
    {
      "cell_type": "markdown",
      "metadata": {
        "id": "0UYJ4acOXTqn"
      },
      "source": [
        "# Further Analysis"
      ]
    },
    {
      "cell_type": "code",
      "metadata": {
        "colab": {
          "base_uri": "https://localhost:8080/"
        },
        "id": "chwQL3W3XTqo",
        "outputId": "79051421-4cc7-4e15-aef2-13029670c9ad"
      },
      "source": [
        "# Warehouse 1 and Warehouse 2 required capacity\n",
        "for i in range(n_warehouses):\n",
        "    print(\"Warehouse \", str(i+1))\n",
        "    print(lpSum(allocation[i][j].value() for j in range(n_customers)))"
      ],
      "execution_count": null,
      "outputs": [
        {
          "output_type": "stream",
          "text": [
            "Warehouse  1\n",
            "60000.0\n",
            "Warehouse  2\n",
            "45000.0\n"
          ],
          "name": "stdout"
        }
      ]
    },
    {
      "cell_type": "code",
      "metadata": {
        "id": "AzaZwk9uXTqo"
      },
      "source": [
        ""
      ],
      "execution_count": null,
      "outputs": []
    }
  ]
}